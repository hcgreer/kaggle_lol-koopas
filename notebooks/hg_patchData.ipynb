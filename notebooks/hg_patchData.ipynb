{
 "cells": [
  {
   "cell_type": "code",
   "execution_count": 1,
   "id": "59e51143",
   "metadata": {},
   "outputs": [],
   "source": [
    "import requests\n",
    "from bs4 import BeautifulSoup as BS\n",
    "import pandas as pd\n",
    "import re\n",
    "import numpy as np\n",
    "import json"
   ]
  },
  {
   "cell_type": "markdown",
   "id": "54311c06",
   "metadata": {},
   "source": [
    "jan 18 - march 13"
   ]
  },
  {
   "cell_type": "markdown",
   "id": "69bda254",
   "metadata": {},
   "source": [
    "**Scraping the web to pull a table out that contains champion stats by patch**"
   ]
  },
  {
   "cell_type": "code",
   "execution_count": 2,
   "id": "51ccf570",
   "metadata": {},
   "outputs": [],
   "source": [
    "patches = [13.1, 13.3, 13.4, 13.5, 13.6]"
   ]
  },
  {
   "cell_type": "code",
   "execution_count": 3,
   "id": "ac53aee6",
   "metadata": {},
   "outputs": [],
   "source": [
    "URL = 'https://www.metasrc.com/5v5/br/{patches}/stats?ranks=diamond'.format(patches = 13.1)\n",
    "\n",
    "response = requests.get(URL)\n",
    "\n",
    "soup = BS(response.text)"
   ]
  },
  {
   "cell_type": "code",
   "execution_count": 4,
   "id": "b4e8616c",
   "metadata": {},
   "outputs": [],
   "source": [
    "df = []\n",
    "\n",
    "for patch in patches:\n",
    "    URL = 'https://www.metasrc.com/5v5/br/{patches}/stats?ranks=diamond'.format(patches = patch)\n",
    "\n",
    "    response = requests.get(URL)\n",
    "\n",
    "    soup = BS(response.text)\n",
    "    \n",
    "    temp = pd.read_html(str(soup.findAll('table', attrs={'class' : 'stats-table'})))[0]\n",
    "    temp['patch'] = patch\n",
    "    df.append(temp)"
   ]
  },
  {
   "cell_type": "code",
   "execution_count": 5,
   "id": "52b9c841",
   "metadata": {},
   "outputs": [],
   "source": [
    "patchInfo = (\n",
    "    pd.concat(df)\n",
    "    .reset_index(drop = True)[['Name', 'Role', 'Score', 'Win %', 'Pick %', 'patch']]\n",
    "    .rename(columns = {\n",
    "        'Name' : 'championName',\n",
    "        'Role' : 'lane',\n",
    "        'Score' : 'score',\n",
    "        'Win %' : 'winPercent',\n",
    "        'Pick %' : 'pickPercent'\n",
    "    })\n",
    ")\n",
    "\n",
    "patchInfo['winPercent'] = patchInfo['winPercent'].str.rstrip(\"%\").astype(float)/100\n",
    "patchInfo['pickPercent'] = patchInfo['pickPercent'].str.rstrip(\"%\").astype(float)/100"
   ]
  },
  {
   "cell_type": "code",
   "execution_count": 6,
   "id": "a8aec4e1",
   "metadata": {},
   "outputs": [
    {
     "name": "stderr",
     "output_type": "stream",
     "text": [
      "C:\\Users\\hcgre\\AppData\\Local\\Temp\\ipykernel_9240\\1636505631.py:11: FutureWarning: The default value of regex will change from True to False in a future version. In addition, single character regular expressions will *not* be treated as literal strings when regex=True.\n",
      "  patchInfo['championName'] = patchInfo['championName'].str.replace(\".\", '')\n"
     ]
    }
   ],
   "source": [
    "champion = []\n",
    "for i in range(0, len(patchInfo['championName'])):\n",
    "    \n",
    "    champion.append(patchInfo['championName'][i][0:int(len(patchInfo['championName'][i])/2)])\n",
    "\n",
    "patchInfo['championName'] = champion\n",
    "\n",
    "patchInfo['championName'] = patchInfo['championName'].str.lower()\n",
    "patchInfo['championName'] = patchInfo['championName'].str.replace(' ', '')\n",
    "patchInfo['championName'] = patchInfo['championName'].str.replace(\"'\", '')\n",
    "patchInfo['championName'] = patchInfo['championName'].str.replace(\".\", '')"
   ]
  },
  {
   "cell_type": "code",
   "execution_count": 7,
   "id": "312fdb4e",
   "metadata": {},
   "outputs": [],
   "source": [
    "patchInfo['lane'] = (\n",
    "    np.where(patchInfo['lane'] == 'MID', 'MIDDLE',\n",
    "    np.where(patchInfo['lane'] == 'SUPPORT', 'UTILITY',\n",
    "    np.where(patchInfo['lane'] == 'TOP', 'TOP',\n",
    "    np.where(patchInfo['lane'] == 'ADC', 'BOTTOM', 'JUNGLE'\n",
    "            ))))\n",
    ")"
   ]
  },
  {
   "cell_type": "code",
   "execution_count": 8,
   "id": "430bf8a1",
   "metadata": {},
   "outputs": [],
   "source": [
    "patchInfo = patchInfo.rename(columns = {'lane' : 'teamPosition'})"
   ]
  },
  {
   "cell_type": "markdown",
   "id": "8cf35fd1",
   "metadata": {},
   "source": [
    "**Using the date of the match to apply which patch the game was played on**"
   ]
  },
  {
   "cell_type": "code",
   "execution_count": 9,
   "id": "910546e3",
   "metadata": {},
   "outputs": [],
   "source": [
    "matchDates = pd.read_csv('../data/matchdates.csv')\n",
    "\n",
    "matchDates['patch'] = (\n",
    "    np.where((matchDates['matchcreationDate'] >= '2023-01-11') & (matchDates['matchcreationDate'] < '2023-02-09'), 13.1, \n",
    "    np.where((matchDates['matchcreationDate'] >= '2023-02-09') & (matchDates['matchcreationDate'] < '2023-02-23'), 13.3,\n",
    "    np.where((matchDates['matchcreationDate'] >= '2023-02-23') & (matchDates['matchcreationDate'] < '2023-03-08'), 13.4,\n",
    "    np.where((matchDates['matchcreationDate'] >= '2023-03-08') & (matchDates['matchcreationDate'] < '2023-03-22'), 13.5, 13.6\n",
    "    ))))\n",
    ")\n",
    "\n",
    "matchPatch = matchDates[['matchId', 'patch']]"
   ]
  },
  {
   "cell_type": "markdown",
   "id": "8e742d64",
   "metadata": {},
   "source": [
    "**Merging lane data and match data with patch data**"
   ]
  },
  {
   "cell_type": "code",
   "execution_count": 10,
   "id": "9ff9b4e3",
   "metadata": {},
   "outputs": [],
   "source": [
    "positions = pd.read_csv('../data/teamPositions.csv')\n",
    "\n",
    "positionsTrain = positions.loc[positions['matchId'] <= 7999].reset_index(drop=True)"
   ]
  },
  {
   "cell_type": "code",
   "execution_count": 11,
   "id": "8d31b484",
   "metadata": {},
   "outputs": [],
   "source": [
    "patchTrain = pd.read_csv('../data/participants_train.csv')[['matchId', 'teamId', 'participantId', 'championName']].merge(\n",
    "    right = positionsTrain,\n",
    "    how = 'left',\n",
    "    on = ['matchId', 'participantId']\n",
    ").merge(\n",
    "    right = matchPatch,\n",
    "    how = 'left',\n",
    "    on = ['matchId']\n",
    ")"
   ]
  },
  {
   "cell_type": "markdown",
   "id": "0670cd1e",
   "metadata": {},
   "source": [
    "**Correcting where team position is nan**"
   ]
  },
  {
   "cell_type": "code",
   "execution_count": 12,
   "id": "dd7f6da7",
   "metadata": {},
   "outputs": [],
   "source": [
    "naTeamPositions = patchTrain.loc[patchTrain['teamPosition'].isna()].copy()\n",
    "\n",
    "naTeamPositions['teamPosition'] = np.where(\n",
    "    (naTeamPositions['participantId'] == 1) | (naTeamPositions['participantId'] == 6), 'TOP',\n",
    "np.where(\n",
    "    (naTeamPositions['participantId'] == 2) | (naTeamPositions['participantId'] == 7), 'JUNGLE',\n",
    "np.where(\n",
    "    (naTeamPositions['participantId'] == 3) | (naTeamPositions['participantId'] == 8), 'MIDDLE',\n",
    "np.where(\n",
    "    (naTeamPositions['participantId'] == 4) | (naTeamPositions['participantId'] == 9), 'BOTTOM', 'UTILITY'\n",
    "))))"
   ]
  },
  {
   "cell_type": "code",
   "execution_count": 13,
   "id": "ab063a0d",
   "metadata": {},
   "outputs": [],
   "source": [
    "patchTrain = patchTrain.loc[~patchTrain['teamPosition'].isna()]\n",
    "\n",
    "patchTrain = pd.concat([patchTrain, naTeamPositions]).sort_values(by = ['matchId', 'participantId'])\n",
    "\n",
    "patchTrain['championName'] = patchTrain['championName'].str.lower()"
   ]
  },
  {
   "cell_type": "markdown",
   "id": "0b4ebe33",
   "metadata": {},
   "source": [
    "**Changing champion name 'monkeyking' to 'wukong'**"
   ]
  },
  {
   "cell_type": "code",
   "execution_count": 14,
   "id": "dc9dff7c",
   "metadata": {},
   "outputs": [],
   "source": [
    "monkeyKing = patchTrain.loc[patchTrain['championName'] == 'monkeyking'].copy()\n",
    "\n",
    "monkeyKing['championName'] = 'wukong'\n",
    "\n",
    "patchTrain = patchTrain.loc[patchTrain['championName'] != 'monkeyking']\n",
    "\n",
    "patchTrain = pd.concat([patchTrain, monkeyKing]).sort_values(by = ['matchId', 'participantId'])"
   ]
  },
  {
   "cell_type": "markdown",
   "id": "bc052b14",
   "metadata": {},
   "source": [
    "**Changing champion name 'renata' to 'renataglasc'**"
   ]
  },
  {
   "cell_type": "code",
   "execution_count": 15,
   "id": "cd49a2d0",
   "metadata": {},
   "outputs": [],
   "source": [
    "renata = patchTrain.loc[patchTrain['championName'] == 'renata'].copy()\n",
    "\n",
    "renata['championName'] = 'renataglasc'\n",
    "\n",
    "patchTrain = patchTrain.loc[patchTrain['championName'] != 'renata']\n",
    "\n",
    "patchTrain = pd.concat([patchTrain, renata]).sort_values(by = ['matchId', 'participantId'])"
   ]
  },
  {
   "cell_type": "markdown",
   "id": "e76b419b",
   "metadata": {},
   "source": [
    "**Merging champion stats by patch with match data**"
   ]
  },
  {
   "cell_type": "code",
   "execution_count": 16,
   "id": "f5fc91f6",
   "metadata": {},
   "outputs": [],
   "source": [
    "patchTrain = patchTrain.merge(\n",
    "    right = patchInfo,\n",
    "    how = 'left',\n",
    "    on = ['championName', 'teamPosition', 'patch']\n",
    ")"
   ]
  },
  {
   "cell_type": "code",
   "execution_count": 17,
   "id": "8b0db643",
   "metadata": {
    "scrolled": true
   },
   "outputs": [
    {
     "data": {
      "text/plain": [
       "matchId             0\n",
       "teamId              0\n",
       "participantId       0\n",
       "championName        0\n",
       "teamPosition        0\n",
       "patch               0\n",
       "score            3331\n",
       "winPercent       3331\n",
       "pickPercent      3331\n",
       "dtype: int64"
      ]
     },
     "execution_count": 17,
     "metadata": {},
     "output_type": "execute_result"
    }
   ],
   "source": [
    "patchTrain.isna().sum()"
   ]
  },
  {
   "cell_type": "markdown",
   "id": "d6f7311a",
   "metadata": {},
   "source": [
    "**Dealing with the large amount of nan**\n",
    "* unusalPositions - there was no current patch data for the champion/position combo but there was past data which was used to subtitute.\n",
    "* potenialLaneSwap - game placed player in unfavorable position and another player on the team swapped positions with them."
   ]
  },
  {
   "cell_type": "code",
   "execution_count": 18,
   "id": "bf84868b",
   "metadata": {},
   "outputs": [],
   "source": [
    "unusalPositions = (\n",
    "    patchTrain.loc[patchTrain['winPercent'].isna()][['matchId', 'teamId', 'participantId', 'championName', 'teamPosition']]\n",
    "    .merge(\n",
    "        right = patchInfo[['championName', 'teamPosition', 'patch', 'score', 'winPercent', 'pickPercent']],\n",
    "        how = 'left',\n",
    "        on = ['championName', 'teamPosition']\n",
    "    ).sort_values(by = 'pickPercent', ascending = False)\n",
    "    .drop_duplicates(subset = ['matchId', 'participantId'])\n",
    ")\n",
    "\n",
    "stillNan = unusalPositions.loc[unusalPositions['winPercent'].isna()]\n",
    "\n",
    "unusalPositions = unusalPositions.loc[~unusalPositions['winPercent'].isna()]"
   ]
  },
  {
   "cell_type": "code",
   "execution_count": 19,
   "id": "634e9db8",
   "metadata": {},
   "outputs": [],
   "source": [
    "potenialLaneSwap = (\n",
    "    stillNan[['matchId', 'teamId', 'participantId', 'championName', 'teamPosition']].merge(\n",
    "        right = patchInfo[['championName', 'patch', 'score', 'winPercent', 'pickPercent']],\n",
    "        how = 'left',\n",
    "        on = ['championName']\n",
    "    ).sort_values(by = 'pickPercent', ascending = False)\n",
    "    .drop_duplicates(subset = ['matchId', 'participantId'])\n",
    ")\n",
    "\n",
    "potenialLaneSwap = potenialLaneSwap.loc[~potenialLaneSwap['winPercent'].isna()]"
   ]
  },
  {
   "cell_type": "code",
   "execution_count": 20,
   "id": "fb99131f",
   "metadata": {},
   "outputs": [
    {
     "data": {
      "text/plain": [
       "matchId          0\n",
       "teamId           0\n",
       "participantId    0\n",
       "championName     0\n",
       "teamPosition     0\n",
       "patch            0\n",
       "score            0\n",
       "winPercent       0\n",
       "pickPercent      0\n",
       "dtype: int64"
      ]
     },
     "execution_count": 20,
     "metadata": {},
     "output_type": "execute_result"
    }
   ],
   "source": [
    "patchTrain = patchTrain.loc[~patchTrain['winPercent'].isna()]\n",
    "\n",
    "patchTrain = pd.concat([patchTrain, unusalPositions, potenialLaneSwap]).sort_values(by = ['matchId', 'participantId'])\n",
    "\n",
    "patchTrain.isna().sum()"
   ]
  },
  {
   "cell_type": "markdown",
   "id": "326a7207",
   "metadata": {},
   "source": [
    "**Collapsing the 10 rows per game to 1 by grouping by match id and taking the average of score and win percentage**"
   ]
  },
  {
   "cell_type": "code",
   "execution_count": 21,
   "id": "57f3d0c1",
   "metadata": {},
   "outputs": [],
   "source": [
    "patchTrain = (\n",
    "    patchTrain[['matchId', 'teamId', 'score', 'winPercent']]\n",
    "    .groupby(by = ['matchId', 'teamId'])\n",
    "    .mean()\n",
    "    .reset_index()\n",
    ")"
   ]
  },
  {
   "cell_type": "code",
   "execution_count": 22,
   "id": "49cf48f0",
   "metadata": {},
   "outputs": [],
   "source": [
    "patchTrain = (\n",
    "    patchTrain.loc[patchTrain['teamId'] == 100][['matchId', 'score', 'winPercent']]\n",
    "    .rename(columns = {\n",
    "        'score' : 'blueChampScore',\n",
    "        'winPercent' : 'blueChampWinPercent'\n",
    "    })\n",
    ").merge(\n",
    "    right = (patchTrain.loc[patchTrain['teamId'] == 200][['matchId', 'score', 'winPercent']]\n",
    "    .rename(columns = {\n",
    "        'score' : 'redChampScore',\n",
    "        'winPercent' : 'redChampWinPercent'\n",
    "    })),\n",
    "    how = 'left',\n",
    "    on = ['matchId']\n",
    ")"
   ]
  },
  {
   "cell_type": "code",
   "execution_count": 23,
   "id": "f70fc145",
   "metadata": {},
   "outputs": [],
   "source": [
    "#patchTrain.to_csv('../data/patchTrain.csv', index = False)"
   ]
  },
  {
   "cell_type": "markdown",
   "id": "0ef1bb81",
   "metadata": {},
   "source": [
    "**Repeating the above steps for test data**"
   ]
  },
  {
   "cell_type": "markdown",
   "id": "ddbe0493",
   "metadata": {},
   "source": [
    "**Merging lane data and match data with patch data**"
   ]
  },
  {
   "cell_type": "code",
   "execution_count": 24,
   "id": "b32297cc",
   "metadata": {},
   "outputs": [],
   "source": [
    "positionsTest = positions.loc[positions['matchId'] >= 8000].reset_index(drop=True)"
   ]
  },
  {
   "cell_type": "code",
   "execution_count": 25,
   "id": "7d0239bb",
   "metadata": {},
   "outputs": [],
   "source": [
    "patchTest = pd.read_csv('../data/participants_test.csv')[['matchId', 'teamId', 'participantId', 'championName']].merge(\n",
    "    right = positionsTest,\n",
    "    how = 'left',\n",
    "    on = ['matchId', 'participantId']\n",
    ").merge(\n",
    "    right = matchPatch,\n",
    "    how = 'left',\n",
    "    on = ['matchId']\n",
    ")"
   ]
  },
  {
   "cell_type": "markdown",
   "id": "205bb665",
   "metadata": {},
   "source": [
    "**Correcting where team position is nan**"
   ]
  },
  {
   "cell_type": "code",
   "execution_count": 26,
   "id": "9d6949c5",
   "metadata": {},
   "outputs": [],
   "source": [
    "naTeamPositions = patchTest.loc[patchTest['teamPosition'].isna()].copy()\n",
    "\n",
    "naTeamPositions['teamPosition'] = np.where(\n",
    "    (naTeamPositions['participantId'] == 1) | (naTeamPositions['participantId'] == 6), 'TOP',\n",
    "np.where(\n",
    "    (naTeamPositions['participantId'] == 2) | (naTeamPositions['participantId'] == 7), 'JUNGLE',\n",
    "np.where(\n",
    "    (naTeamPositions['participantId'] == 3) | (naTeamPositions['participantId'] == 8), 'MIDDLE',\n",
    "np.where(\n",
    "    (naTeamPositions['participantId'] == 4) | (naTeamPositions['participantId'] == 9), 'BOTTOM', 'UTILITY'\n",
    "))))"
   ]
  },
  {
   "cell_type": "code",
   "execution_count": 27,
   "id": "436d0ec8",
   "metadata": {},
   "outputs": [],
   "source": [
    "patchTest = patchTest.loc[~patchTest['teamPosition'].isna()]\n",
    "\n",
    "patchTest = pd.concat([patchTest, naTeamPositions]).sort_values(by = ['matchId', 'participantId'])\n",
    "\n",
    "patchTest['championName'] = patchTest['championName'].str.lower()"
   ]
  },
  {
   "cell_type": "markdown",
   "id": "840d93ff",
   "metadata": {},
   "source": [
    "**Changing champion name 'monkeyking' to 'wukong'**"
   ]
  },
  {
   "cell_type": "code",
   "execution_count": 28,
   "id": "5bc172a2",
   "metadata": {},
   "outputs": [],
   "source": [
    "monkeyKing = patchTest.loc[patchTest['championName'] == 'monkeyking'].copy()\n",
    "\n",
    "monkeyKing['championName'] = 'wukong'\n",
    "\n",
    "patchTest = patchTest.loc[patchTest['championName'] != 'monkeyking']\n",
    "\n",
    "patchTest = pd.concat([patchTest, monkeyKing]).sort_values(by = ['matchId', 'participantId'])"
   ]
  },
  {
   "cell_type": "markdown",
   "id": "c669f087",
   "metadata": {},
   "source": [
    "**Changing champion name 'renata' to 'renataglasc'**"
   ]
  },
  {
   "cell_type": "code",
   "execution_count": 29,
   "id": "1604fbe3",
   "metadata": {},
   "outputs": [],
   "source": [
    "renata = patchTest.loc[patchTest['championName'] == 'renata'].copy()\n",
    "\n",
    "renata['championName'] = 'renataglasc'\n",
    "\n",
    "patchTest = patchTest.loc[patchTest['championName'] != 'renata']\n",
    "\n",
    "patchTest = pd.concat([patchTest, renata]).sort_values(by = ['matchId', 'participantId'])"
   ]
  },
  {
   "cell_type": "markdown",
   "id": "e375481e",
   "metadata": {},
   "source": [
    "**Merging champion stats by patch with match data**"
   ]
  },
  {
   "cell_type": "code",
   "execution_count": 30,
   "id": "41d4d89c",
   "metadata": {},
   "outputs": [],
   "source": [
    "patchTest = patchTest.merge(\n",
    "    right = patchInfo,\n",
    "    how = 'left',\n",
    "    on = ['championName', 'teamPosition', 'patch']\n",
    ")"
   ]
  },
  {
   "cell_type": "code",
   "execution_count": 31,
   "id": "405c3787",
   "metadata": {},
   "outputs": [
    {
     "data": {
      "text/plain": [
       "matchId            0\n",
       "teamId             0\n",
       "participantId      0\n",
       "championName       0\n",
       "teamPosition       0\n",
       "patch              0\n",
       "score            853\n",
       "winPercent       853\n",
       "pickPercent      853\n",
       "dtype: int64"
      ]
     },
     "execution_count": 31,
     "metadata": {},
     "output_type": "execute_result"
    }
   ],
   "source": [
    "patchTest.isna().sum()"
   ]
  },
  {
   "cell_type": "markdown",
   "id": "78eb1261",
   "metadata": {},
   "source": [
    "**Dealing with the large amount of nan**\n",
    "* unusalPositions - there was no current patch data for the champion/position combo but there was past data which was used to subtitute.\n",
    "* potenialLaneSwap - game placed player in unfavorable position and another player on the team swapped positions with them."
   ]
  },
  {
   "cell_type": "code",
   "execution_count": 32,
   "id": "47e7e3b5",
   "metadata": {},
   "outputs": [],
   "source": [
    "unusalPositions = (\n",
    "    patchTest.loc[patchTest['winPercent'].isna()][['matchId', 'teamId', 'participantId', 'championName', 'teamPosition']]\n",
    "    .merge(\n",
    "        right = patchInfo[['championName', 'teamPosition', 'patch', 'score', 'winPercent', 'pickPercent']],\n",
    "        how = 'left',\n",
    "        on = ['championName', 'teamPosition']\n",
    "    ).sort_values(by = 'pickPercent', ascending = False)\n",
    "    .drop_duplicates(subset = ['matchId', 'participantId'])\n",
    ")\n",
    "\n",
    "stillNan = unusalPositions.loc[unusalPositions['winPercent'].isna()]\n",
    "\n",
    "unusalPositions = unusalPositions.loc[~unusalPositions['winPercent'].isna()]"
   ]
  },
  {
   "cell_type": "code",
   "execution_count": 33,
   "id": "6f175c10",
   "metadata": {},
   "outputs": [],
   "source": [
    "potenialLaneSwap = (\n",
    "    stillNan[['matchId', 'teamId', 'participantId', 'championName', 'teamPosition']].merge(\n",
    "        right = patchInfo[['championName', 'patch', 'score', 'winPercent', 'pickPercent']],\n",
    "        how = 'left',\n",
    "        on = ['championName']\n",
    "    ).sort_values(by = 'pickPercent', ascending = False)\n",
    "    .drop_duplicates(subset = ['matchId', 'participantId'])\n",
    ")\n",
    "\n",
    "potenialLaneSwap = potenialLaneSwap.loc[~potenialLaneSwap['winPercent'].isna()]"
   ]
  },
  {
   "cell_type": "code",
   "execution_count": 34,
   "id": "a9490e35",
   "metadata": {},
   "outputs": [
    {
     "data": {
      "text/plain": [
       "matchId          0\n",
       "teamId           0\n",
       "participantId    0\n",
       "championName     0\n",
       "teamPosition     0\n",
       "patch            0\n",
       "score            0\n",
       "winPercent       0\n",
       "pickPercent      0\n",
       "dtype: int64"
      ]
     },
     "execution_count": 34,
     "metadata": {},
     "output_type": "execute_result"
    }
   ],
   "source": [
    "patchTest = patchTest.loc[~patchTest['winPercent'].isna()]\n",
    "\n",
    "patchTest = pd.concat([patchTest, unusalPositions, potenialLaneSwap]).sort_values(by = ['matchId', 'participantId'])\n",
    "\n",
    "patchTest.isna().sum()"
   ]
  },
  {
   "cell_type": "markdown",
   "id": "b17904fa",
   "metadata": {},
   "source": [
    "**Collapsing the 10 rows per game to 1 by grouping by match id and taking the average of score and win percentage**"
   ]
  },
  {
   "cell_type": "code",
   "execution_count": 35,
   "id": "980003bd",
   "metadata": {},
   "outputs": [],
   "source": [
    "patchTest = (\n",
    "    patchTest[['matchId', 'teamId', 'score', 'winPercent']]\n",
    "    .groupby(by = ['matchId', 'teamId'])\n",
    "    .mean()\n",
    "    .reset_index()\n",
    ")"
   ]
  },
  {
   "cell_type": "code",
   "execution_count": 36,
   "id": "f0d22f56",
   "metadata": {},
   "outputs": [],
   "source": [
    "patchTest = (\n",
    "    patchTest.loc[patchTest['teamId'] == 100][['matchId', 'score', 'winPercent']]\n",
    "    .rename(columns = {\n",
    "        'score' : 'blueChampScore',\n",
    "        'winPercent' : 'blueChampWinPercent'\n",
    "    })\n",
    ").merge(\n",
    "    right = (patchTest.loc[patchTest['teamId'] == 200][['matchId', 'score', 'winPercent']]\n",
    "    .rename(columns = {\n",
    "        'score' : 'redChampScore',\n",
    "        'winPercent' : 'redChampWinPercent'\n",
    "    })),\n",
    "    how = 'left',\n",
    "    on = ['matchId']\n",
    ")"
   ]
  },
  {
   "cell_type": "code",
   "execution_count": 38,
   "id": "4096b0b8",
   "metadata": {},
   "outputs": [],
   "source": [
    "#patchTest.to_csv('../data/patchTest.csv', index = False)"
   ]
  }
 ],
 "metadata": {
  "kernelspec": {
   "display_name": "Python 3 (ipykernel)",
   "language": "python",
   "name": "python3"
  },
  "language_info": {
   "codemirror_mode": {
    "name": "ipython",
    "version": 3
   },
   "file_extension": ".py",
   "mimetype": "text/x-python",
   "name": "python",
   "nbconvert_exporter": "python",
   "pygments_lexer": "ipython3",
   "version": "3.9.16"
  }
 },
 "nbformat": 4,
 "nbformat_minor": 5
}
