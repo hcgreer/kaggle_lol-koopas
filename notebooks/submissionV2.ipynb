{
 "cells": [
  {
   "cell_type": "code",
   "execution_count": 182,
   "id": "af8158a7",
   "metadata": {},
   "outputs": [],
   "source": [
    "import pandas as pd\n",
    "import numpy as np"
   ]
  },
  {
   "cell_type": "code",
   "execution_count": 183,
   "id": "1dbce715",
   "metadata": {},
   "outputs": [],
   "source": [
    "X_train = pd.read_csv('../data/participants_train.csv')\n",
    "X_test = pd.read_csv('../data/participants_test.csv')\n",
    "y_train = pd.read_csv('../data/train_winners.csv')\n",
    "champ_mastery = pd.read_csv('../data/champion_mastery.csv')"
   ]
  },
  {
   "cell_type": "code",
   "execution_count": 184,
   "id": "d70e971c",
   "metadata": {},
   "outputs": [],
   "source": [
    "X_train = X_train.merge(\n",
    "    right = champ_mastery[['summonerId', 'championId', 'championPoints']], \n",
    "    how = 'left', \n",
    "    on = ['summonerId', 'championId'])"
   ]
  },
  {
   "cell_type": "code",
   "execution_count": 185,
   "id": "95fbdd7c",
   "metadata": {},
   "outputs": [],
   "source": [
    "X_train['championPoints'] = X_train['championPoints'].fillna(0)"
   ]
  },
  {
   "cell_type": "code",
   "execution_count": 186,
   "id": "b5169720",
   "metadata": {},
   "outputs": [
    {
     "data": {
      "text/html": [
       "<div>\n",
       "<style scoped>\n",
       "    .dataframe tbody tr th:only-of-type {\n",
       "        vertical-align: middle;\n",
       "    }\n",
       "\n",
       "    .dataframe tbody tr th {\n",
       "        vertical-align: top;\n",
       "    }\n",
       "\n",
       "    .dataframe thead th {\n",
       "        text-align: right;\n",
       "    }\n",
       "</style>\n",
       "<table border=\"1\" class=\"dataframe\">\n",
       "  <thead>\n",
       "    <tr style=\"text-align: right;\">\n",
       "      <th></th>\n",
       "      <th>matchId</th>\n",
       "      <th>teamId</th>\n",
       "      <th>participantId</th>\n",
       "      <th>summonerId</th>\n",
       "      <th>summonerLevel</th>\n",
       "      <th>championName</th>\n",
       "      <th>championId</th>\n",
       "      <th>championPoints</th>\n",
       "    </tr>\n",
       "  </thead>\n",
       "  <tbody>\n",
       "    <tr>\n",
       "      <th>0</th>\n",
       "      <td>0</td>\n",
       "      <td>100</td>\n",
       "      <td>1</td>\n",
       "      <td>0</td>\n",
       "      <td>303</td>\n",
       "      <td>Mordekaiser</td>\n",
       "      <td>82</td>\n",
       "      <td>61890.0</td>\n",
       "    </tr>\n",
       "    <tr>\n",
       "      <th>1</th>\n",
       "      <td>0</td>\n",
       "      <td>100</td>\n",
       "      <td>2</td>\n",
       "      <td>1</td>\n",
       "      <td>616</td>\n",
       "      <td>Sylas</td>\n",
       "      <td>517</td>\n",
       "      <td>37664.0</td>\n",
       "    </tr>\n",
       "    <tr>\n",
       "      <th>2</th>\n",
       "      <td>0</td>\n",
       "      <td>100</td>\n",
       "      <td>3</td>\n",
       "      <td>2</td>\n",
       "      <td>667</td>\n",
       "      <td>Lissandra</td>\n",
       "      <td>127</td>\n",
       "      <td>40303.0</td>\n",
       "    </tr>\n",
       "    <tr>\n",
       "      <th>3</th>\n",
       "      <td>0</td>\n",
       "      <td>100</td>\n",
       "      <td>4</td>\n",
       "      <td>3</td>\n",
       "      <td>860</td>\n",
       "      <td>Caitlyn</td>\n",
       "      <td>51</td>\n",
       "      <td>96304.0</td>\n",
       "    </tr>\n",
       "    <tr>\n",
       "      <th>4</th>\n",
       "      <td>0</td>\n",
       "      <td>100</td>\n",
       "      <td>5</td>\n",
       "      <td>4</td>\n",
       "      <td>325</td>\n",
       "      <td>Morgana</td>\n",
       "      <td>25</td>\n",
       "      <td>608721.0</td>\n",
       "    </tr>\n",
       "    <tr>\n",
       "      <th>5</th>\n",
       "      <td>0</td>\n",
       "      <td>200</td>\n",
       "      <td>6</td>\n",
       "      <td>5</td>\n",
       "      <td>459</td>\n",
       "      <td>Warwick</td>\n",
       "      <td>19</td>\n",
       "      <td>1180052.0</td>\n",
       "    </tr>\n",
       "    <tr>\n",
       "      <th>6</th>\n",
       "      <td>0</td>\n",
       "      <td>200</td>\n",
       "      <td>7</td>\n",
       "      <td>6</td>\n",
       "      <td>416</td>\n",
       "      <td>LeeSin</td>\n",
       "      <td>64</td>\n",
       "      <td>45215.0</td>\n",
       "    </tr>\n",
       "    <tr>\n",
       "      <th>7</th>\n",
       "      <td>0</td>\n",
       "      <td>200</td>\n",
       "      <td>8</td>\n",
       "      <td>7</td>\n",
       "      <td>338</td>\n",
       "      <td>Ahri</td>\n",
       "      <td>103</td>\n",
       "      <td>118831.0</td>\n",
       "    </tr>\n",
       "    <tr>\n",
       "      <th>8</th>\n",
       "      <td>0</td>\n",
       "      <td>200</td>\n",
       "      <td>9</td>\n",
       "      <td>8</td>\n",
       "      <td>344</td>\n",
       "      <td>Samira</td>\n",
       "      <td>360</td>\n",
       "      <td>16631.0</td>\n",
       "    </tr>\n",
       "    <tr>\n",
       "      <th>9</th>\n",
       "      <td>0</td>\n",
       "      <td>200</td>\n",
       "      <td>10</td>\n",
       "      <td>9</td>\n",
       "      <td>532</td>\n",
       "      <td>Alistar</td>\n",
       "      <td>12</td>\n",
       "      <td>89581.0</td>\n",
       "    </tr>\n",
       "  </tbody>\n",
       "</table>\n",
       "</div>"
      ],
      "text/plain": [
       "   matchId  teamId  participantId  summonerId  summonerLevel championName  \\\n",
       "0        0     100              1           0            303  Mordekaiser   \n",
       "1        0     100              2           1            616        Sylas   \n",
       "2        0     100              3           2            667    Lissandra   \n",
       "3        0     100              4           3            860      Caitlyn   \n",
       "4        0     100              5           4            325      Morgana   \n",
       "5        0     200              6           5            459      Warwick   \n",
       "6        0     200              7           6            416       LeeSin   \n",
       "7        0     200              8           7            338         Ahri   \n",
       "8        0     200              9           8            344       Samira   \n",
       "9        0     200             10           9            532      Alistar   \n",
       "\n",
       "   championId  championPoints  \n",
       "0          82         61890.0  \n",
       "1         517         37664.0  \n",
       "2         127         40303.0  \n",
       "3          51         96304.0  \n",
       "4          25        608721.0  \n",
       "5          19       1180052.0  \n",
       "6          64         45215.0  \n",
       "7         103        118831.0  \n",
       "8         360         16631.0  \n",
       "9          12         89581.0  "
      ]
     },
     "execution_count": 186,
     "metadata": {},
     "output_type": "execute_result"
    }
   ],
   "source": [
    "X_train.head(10)"
   ]
  },
  {
   "cell_type": "markdown",
   "id": "fef4db4a",
   "metadata": {},
   "source": [
    "X_train['lane'] = np.where(\n",
    "    (X_train['participantId'] == 1) | (X_train['participantId'] == 6), 'top',\n",
    "np.where(\n",
    "    (X_train['participantId'] == 2) | (X_train['participantId'] == 7), 'jungle',\n",
    "np.where(\n",
    "    (X_train['participantId'] == 3) | (X_train['participantId'] == 8), 'mid',\n",
    "np.where(\n",
    "    (X_train['participantId'] == 4) | (X_train['participantId'] == 9), 'bot', 'support'\n",
    "))))"
   ]
  },
  {
   "cell_type": "code",
   "execution_count": 187,
   "id": "827ce7f8",
   "metadata": {},
   "outputs": [],
   "source": [
    "matchIds = X_train['matchId'].drop_duplicates().reset_index(drop = True).values.tolist()"
   ]
  },
  {
   "cell_type": "code",
   "execution_count": 188,
   "id": "0cbe5953",
   "metadata": {},
   "outputs": [],
   "source": [
    "df = []"
   ]
  },
  {
   "cell_type": "code",
   "execution_count": 189,
   "id": "3708c516",
   "metadata": {},
   "outputs": [],
   "source": [
    "for matchId in matchIds:\n",
    "    game = X_train.loc[X_train['matchId'] == matchId].reset_index(drop = True)\n",
    "    \n",
    "    df.append({\n",
    "        'matchId' : game['matchId'][0],\n",
    "#         'top_sumLevel_diff' : (\n",
    "#             game.loc[game['participantId'] == 1]['summonerLevel'].reset_index(drop = True)[0] - \n",
    "#             game.loc[game['participantId'] == 6]['summonerLevel'].reset_index(drop = True)[0]\n",
    "#         ),\n",
    "        'top_champPoints_diff' : (\n",
    "            game.loc[game['participantId'] == 1]['championPoints'].reset_index(drop = True)[0] - \n",
    "            game.loc[game['participantId'] == 6]['championPoints'].reset_index(drop = True)[0]\n",
    "        ),\n",
    "#         'jungle_sumLevel_diff' : (\n",
    "#             game.loc[game['participantId'] == 2]['summonerLevel'].reset_index(drop = True)[0] - \n",
    "#             game.loc[game['participantId'] == 7]['summonerLevel'].reset_index(drop = True)[0]\n",
    "#         ),\n",
    "        'jungle_champPoints_diff' : (\n",
    "            game.loc[game['participantId'] == 2]['championPoints'].reset_index(drop = True)[0] - \n",
    "            game.loc[game['participantId'] == 7]['championPoints'].reset_index(drop = True)[0]\n",
    "        ),\n",
    "#         'mid_sumLevel_diff' : (\n",
    "#             game.loc[game['participantId'] == 3]['summonerLevel'].reset_index(drop = True)[0] - \n",
    "#             game.loc[game['participantId'] == 8]['summonerLevel'].reset_index(drop = True)[0]\n",
    "#         ),\n",
    "        'mid_champPoints_diff' : (\n",
    "            game.loc[game['participantId'] == 3]['championPoints'].reset_index(drop = True)[0] - \n",
    "            game.loc[game['participantId'] == 8]['championPoints'].reset_index(drop = True)[0]\n",
    "        ),\n",
    "#         'bot_sumLevel_diff' : (\n",
    "#             game.loc[game['participantId'] == 4]['summonerLevel'].reset_index(drop = True)[0] - \n",
    "#             game.loc[game['participantId'] == 9]['summonerLevel'].reset_index(drop = True)[0]\n",
    "#         ),\n",
    "        'bot_champPoints_diff' : (\n",
    "            game.loc[game['participantId'] == 4]['championPoints'].reset_index(drop = True)[0] - \n",
    "            game.loc[game['participantId'] == 9]['championPoints'].reset_index(drop = True)[0]\n",
    "        ),\n",
    "#         'support_sumLevel_diff' : (\n",
    "#             game.loc[game['participantId'] == 5]['summonerLevel'].reset_index(drop = True)[0] - \n",
    "#             game.loc[game['participantId'] == 10]['summonerLevel'].reset_index(drop = True)[0]\n",
    "#         ),\n",
    "        'support_champPoints_diff' : (\n",
    "            game.loc[game['participantId'] == 5]['championPoints'].reset_index(drop = True)[0] - \n",
    "            game.loc[game['participantId'] == 10]['championPoints'].reset_index(drop = True)[0]\n",
    "        )\n",
    "    })"
   ]
  },
  {
   "cell_type": "code",
   "execution_count": 190,
   "id": "01ffe2ef",
   "metadata": {},
   "outputs": [],
   "source": [
    "X_train = pd.DataFrame(df)"
   ]
  },
  {
   "cell_type": "code",
   "execution_count": 191,
   "id": "6394ab06",
   "metadata": {},
   "outputs": [],
   "source": [
    "y_train = y_train['winner'] == 100"
   ]
  },
  {
   "cell_type": "code",
   "execution_count": 192,
   "id": "53343e27",
   "metadata": {},
   "outputs": [],
   "source": [
    "from sklearn.linear_model import LogisticRegression"
   ]
  },
  {
   "cell_type": "code",
   "execution_count": 193,
   "id": "845cedd1",
   "metadata": {},
   "outputs": [],
   "source": [
    "logreg = LogisticRegression().fit(X_train.drop(columns = ['matchId']), y_train)"
   ]
  },
  {
   "cell_type": "code",
   "execution_count": 194,
   "id": "6da925dd",
   "metadata": {},
   "outputs": [],
   "source": [
    "from sklearn.metrics import accuracy_score"
   ]
  },
  {
   "cell_type": "code",
   "execution_count": 195,
   "id": "a12aa0bd",
   "metadata": {},
   "outputs": [
    {
     "data": {
      "text/plain": [
       "0.527875"
      ]
     },
     "execution_count": 195,
     "metadata": {},
     "output_type": "execute_result"
    }
   ],
   "source": [
    "accuracy_score(y_train, logreg.predict(X_train.drop(columns = ['matchId'])))"
   ]
  },
  {
   "cell_type": "code",
   "execution_count": 196,
   "id": "56073fec",
   "metadata": {},
   "outputs": [],
   "source": [
    "X_test = X_test.merge(\n",
    "    right = champ_mastery[['summonerId', 'championId', 'championPoints']], \n",
    "    how = 'left', \n",
    "    on = ['summonerId', 'championId'])"
   ]
  },
  {
   "cell_type": "code",
   "execution_count": 197,
   "id": "dcfb33c7",
   "metadata": {},
   "outputs": [],
   "source": [
    "X_test['championPoints'] = X_test['championPoints'].fillna(0)"
   ]
  },
  {
   "cell_type": "code",
   "execution_count": 198,
   "id": "d41d1b8e",
   "metadata": {},
   "outputs": [],
   "source": [
    "matchIds = X_test['matchId'].drop_duplicates().reset_index(drop = True).values.tolist()"
   ]
  },
  {
   "cell_type": "code",
   "execution_count": 199,
   "id": "00157be5",
   "metadata": {},
   "outputs": [],
   "source": [
    "df = []"
   ]
  },
  {
   "cell_type": "code",
   "execution_count": 200,
   "id": "5793e68f",
   "metadata": {},
   "outputs": [],
   "source": [
    "for matchId in matchIds:\n",
    "    game = X_test.loc[X_test['matchId'] == matchId].reset_index(drop = True)\n",
    "    \n",
    "    df.append({\n",
    "        'matchId' : game['matchId'][0],\n",
    "#         'top_sumLevel_diff' : (\n",
    "#             game.loc[game['participantId'] == 1]['summonerLevel'].reset_index(drop = True)[0] - \n",
    "#             game.loc[game['participantId'] == 6]['summonerLevel'].reset_index(drop = True)[0]\n",
    "#         ),\n",
    "        'top_champPoints_diff' : (\n",
    "            game.loc[game['participantId'] == 1]['championPoints'].reset_index(drop = True)[0] - \n",
    "            game.loc[game['participantId'] == 6]['championPoints'].reset_index(drop = True)[0]\n",
    "        ),\n",
    "#         'jungle_sumLevel_diff' : (\n",
    "#             game.loc[game['participantId'] == 2]['summonerLevel'].reset_index(drop = True)[0] - \n",
    "#             game.loc[game['participantId'] == 7]['summonerLevel'].reset_index(drop = True)[0]\n",
    "#         ),\n",
    "        'jungle_champPoints_diff' : (\n",
    "            game.loc[game['participantId'] == 2]['championPoints'].reset_index(drop = True)[0] - \n",
    "            game.loc[game['participantId'] == 7]['championPoints'].reset_index(drop = True)[0]\n",
    "        ),\n",
    "#         'mid_sumLevel_diff' : (\n",
    "#             game.loc[game['participantId'] == 3]['summonerLevel'].reset_index(drop = True)[0] - \n",
    "#             game.loc[game['participantId'] == 8]['summonerLevel'].reset_index(drop = True)[0]\n",
    "#         ),\n",
    "        'mid_champPoints_diff' : (\n",
    "            game.loc[game['participantId'] == 3]['championPoints'].reset_index(drop = True)[0] - \n",
    "            game.loc[game['participantId'] == 8]['championPoints'].reset_index(drop = True)[0]\n",
    "        ),\n",
    "#         'bot_sumLevel_diff' : (\n",
    "#             game.loc[game['participantId'] == 4]['summonerLevel'].reset_index(drop = True)[0] - \n",
    "#             game.loc[game['participantId'] == 9]['summonerLevel'].reset_index(drop = True)[0]\n",
    "#         ),\n",
    "        'bot_champPoints_diff' : (\n",
    "            game.loc[game['participantId'] == 4]['championPoints'].reset_index(drop = True)[0] - \n",
    "            game.loc[game['participantId'] == 9]['championPoints'].reset_index(drop = True)[0]\n",
    "        ),\n",
    "#         'support_sumLevel_diff' : (\n",
    "#             game.loc[game['participantId'] == 5]['summonerLevel'].reset_index(drop = True)[0] - \n",
    "#             game.loc[game['participantId'] == 10]['summonerLevel'].reset_index(drop = True)[0]\n",
    "#         ),\n",
    "        'support_champPoints_diff' : (\n",
    "            game.loc[game['participantId'] == 5]['championPoints'].reset_index(drop = True)[0] - \n",
    "            game.loc[game['participantId'] == 10]['championPoints'].reset_index(drop = True)[0]\n",
    "        )\n",
    "    })"
   ]
  },
  {
   "cell_type": "code",
   "execution_count": 201,
   "id": "537989bb",
   "metadata": {},
   "outputs": [],
   "source": [
    "X_test = pd.DataFrame(df)"
   ]
  },
  {
   "cell_type": "code",
   "execution_count": 202,
   "id": "abf83e89",
   "metadata": {},
   "outputs": [
    {
     "data": {
      "text/plain": [
       "array([ True, False,  True, ..., False, False, False])"
      ]
     },
     "execution_count": 202,
     "metadata": {},
     "output_type": "execute_result"
    }
   ],
   "source": [
    "logreg.predict(X_test.drop(columns = ['matchId']))"
   ]
  },
  {
   "cell_type": "code",
   "execution_count": 205,
   "id": "0f421f0c",
   "metadata": {},
   "outputs": [],
   "source": [
    "submissionV2 = X_test[['matchId']]"
   ]
  },
  {
   "cell_type": "code",
   "execution_count": 208,
   "id": "97c5204c",
   "metadata": {},
   "outputs": [],
   "source": [
    "submissionV2 = submissionV2.copy()"
   ]
  },
  {
   "cell_type": "code",
   "execution_count": 209,
   "id": "27b4d00a",
   "metadata": {},
   "outputs": [],
   "source": [
    "submissionV2['win'] = logreg.predict(X_test.drop(columns = ['matchId']))"
   ]
  },
  {
   "cell_type": "code",
   "execution_count": 212,
   "id": "15a567b4",
   "metadata": {},
   "outputs": [],
   "source": [
    "submissionV2['winner'] = np.where(submissionV2['win'] == True, 100, 200)"
   ]
  },
  {
   "cell_type": "code",
   "execution_count": 214,
   "id": "64e7a204",
   "metadata": {},
   "outputs": [],
   "source": [
    "submissionV2 = submissionV2[['matchId', 'winner']]"
   ]
  },
  {
   "cell_type": "code",
   "execution_count": 215,
   "id": "94b01295",
   "metadata": {},
   "outputs": [],
   "source": [
    "submissionV2.to_csv('../submissions/submissionV2.csv', index = False)"
   ]
  }
 ],
 "metadata": {
  "kernelspec": {
   "display_name": "Python 3 (ipykernel)",
   "language": "python",
   "name": "python3"
  },
  "language_info": {
   "codemirror_mode": {
    "name": "ipython",
    "version": 3
   },
   "file_extension": ".py",
   "mimetype": "text/x-python",
   "name": "python",
   "nbconvert_exporter": "python",
   "pygments_lexer": "ipython3",
   "version": "3.9.16"
  }
 },
 "nbformat": 4,
 "nbformat_minor": 5
}
